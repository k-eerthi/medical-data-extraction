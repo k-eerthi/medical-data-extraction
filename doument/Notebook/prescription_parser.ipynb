{
 "cells": [
  {
   "cell_type": "code",
   "execution_count": 1,
   "id": "ad89d130",
   "metadata": {},
   "outputs": [],
   "source": [
    "# Importing Packages To For Pdf To Image\n",
    "from pdf2image import convert_from_path # Conv It By Allocating File Name \n",
    "import cv2\n",
    "from PIL import Image\n",
    "import numpy as np"
   ]
  },
  {
   "cell_type": "code",
   "execution_count": 2,
   "id": "5c0a9ffc",
   "metadata": {},
   "outputs": [],
   "source": [
    "pages = convert_from_path(r\"C:\\Users\\prath\\OneDrive\\Desktop\\jupyter Lab\\Medical Project\\backend\\Documents\\Prescription\\pre_2.pdf\",poppler_path=r'C:\\poppler-22.04.0\\Library\\bin')"
   ]
  },
  {
   "cell_type": "code",
   "execution_count": 3,
   "id": "8dd4776f",
   "metadata": {},
   "outputs": [
    {
     "data": {
      "text/plain": [
       "[<PIL.PpmImagePlugin.PpmImageFile image mode=RGB size=1700x2200>]"
      ]
     },
     "execution_count": 3,
     "metadata": {},
     "output_type": "execute_result"
    }
   ],
   "source": [
    "pages"
   ]
  },
  {
   "cell_type": "code",
   "execution_count": 4,
   "id": "813864f1",
   "metadata": {},
   "outputs": [],
   "source": [
    "pages[0].show()"
   ]
  },
  {
   "cell_type": "code",
   "execution_count": 5,
   "id": "c31fabbb",
   "metadata": {},
   "outputs": [
    {
     "name": "stdout",
     "output_type": "stream",
     "text": [
      "Refill: 3 times\n",
      "\n",
      "\n"
     ]
    }
   ],
   "source": [
    "# Import Pytesseract For Text To Image Conversion\n",
    "import pytesseract\n",
    "pytesseract.pytesseract.tesseract_cmd=r\"C:\\Program Files\\Tesseract-OCR\\tesseract.exe\" # Mentioning Tesseract Directory To Utilize OCR Engine\n",
    "text = pytesseract.image_to_string(pages[0],lang='eng') # Conversion Step \n",
    "print(text)"
   ]
  },
  {
   "cell_type": "markdown",
   "id": "80e70e15",
   "metadata": {},
   "source": [
    "### Above Text Is Not Extracted Correctly As There Is Shadow Present In Image To Fix That We Have To Do\n",
    "* Use Computer Vision To Clean The Image "
   ]
  },
  {
   "cell_type": "code",
   "execution_count": 6,
   "id": "eca3c121",
   "metadata": {},
   "outputs": [],
   "source": [
    "def preprocess_image(img):\n",
    "    grey_scale = cv2.cvtColor(np.array(img),cv2.COLOR_BGR2GRAY)\n",
    "    resized_image = cv2.resize(grey_scale,None,fx=1.5,fy =1.5,interpolation=cv2.INTER_LINEAR)\n",
    "    processed_image =cv2.adaptiveThreshold(\n",
    "    resized_image,255,\n",
    "    cv2.ADAPTIVE_THRESH_GAUSSIAN_C,\n",
    "    cv2.THRESH_BINARY,63,13\n",
    "    ) \n",
    "    return processed_image"
   ]
  },
  {
   "cell_type": "code",
   "execution_count": 7,
   "id": "d363c24c",
   "metadata": {},
   "outputs": [],
   "source": [
    "out_img = preprocess_image(pages[0])\n",
    "Image.fromarray(out_img).show()"
   ]
  },
  {
   "cell_type": "code",
   "execution_count": 8,
   "id": "9d81f624",
   "metadata": {},
   "outputs": [
    {
     "name": "stdout",
     "output_type": "stream",
     "text": [
      "Dr John Smith, M.D\n",
      "\n",
      "2 Non-Important street,\n",
      "New York, Phone (900)-222-2222\n",
      "\n",
      "Name:  Virat Kohli Date: 2/05/2022\n",
      "\n",
      "Address: 2 cricket blvd, New Delhi |\n",
      "\n",
      "‘Omeprazole 40 mg\n",
      "\n",
      "Directions: Use two tablets daily for three months\n",
      "\n",
      "Refill: 3 times\n",
      "\n"
     ]
    }
   ],
   "source": [
    "pytesseract.pytesseract.tesseract_cmd = r\"C:\\Program Files\\Tesseract-OCR\\tesseract.exe\" \n",
    "text = pytesseract.image_to_string(out_img,lang=\"eng\") \n",
    "print(text)"
   ]
  },
  {
   "cell_type": "code",
   "execution_count": null,
   "id": "4a68aac5",
   "metadata": {},
   "outputs": [],
   "source": []
  }
 ],
 "metadata": {
  "kernelspec": {
   "display_name": "Python 3 (ipykernel)",
   "language": "python",
   "name": "python3"
  },
  "language_info": {
   "codemirror_mode": {
    "name": "ipython",
    "version": 3
   },
   "file_extension": ".py",
   "mimetype": "text/x-python",
   "name": "python",
   "nbconvert_exporter": "python",
   "pygments_lexer": "ipython3",
   "version": "3.10.6"
  },
  "vscode": {
   "interpreter": {
    "hash": "369f2c481f4da34e4445cda3fffd2e751bd1c4d706f27375911949ba6bb62e1c"
   }
  }
 },
 "nbformat": 4,
 "nbformat_minor": 5
}
