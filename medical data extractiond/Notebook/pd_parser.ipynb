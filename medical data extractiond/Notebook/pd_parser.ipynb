{
 "cells": [
  {
   "cell_type": "code",
   "execution_count": 1,
   "id": "905df927-aa86-49e8-b5a4-803f69121288",
   "metadata": {},
   "outputs": [],
   "source": [
    "from pdf2image import convert_from_path\n",
    "import pytesseract\n",
    "import numpy as np \n",
    "import cv2 \n",
    "from PIL import Image\n",
    "import re"
   ]
  },
  {
   "cell_type": "code",
   "execution_count": 2,
   "id": "880728d4-513e-4e16-b484-8f6070bcccdd",
   "metadata": {},
   "outputs": [],
   "source": [
    "\n",
    "pages = convert_from_path(r\"C:\\Users\\prath\\OneDrive\\Desktop\\jupyter Lab\\Medical Project\\backend\\Documents\\patient_details\\pd_1.pdf\",poppler_path=r'C:\\poppler-22.04.0\\Library\\bin')"
   ]
  },
  {
   "cell_type": "code",
   "execution_count": 3,
   "id": "b271e78d-7625-4e20-8f34-ee8e942de5aa",
   "metadata": {},
   "outputs": [
    {
     "data": {
      "text/plain": [
       "[<PIL.PpmImagePlugin.PpmImageFile image mode=RGB size=1867x2000>,\n",
       " <PIL.PpmImagePlugin.PpmImageFile image mode=RGB size=2000x1398>]"
      ]
     },
     "execution_count": 3,
     "metadata": {},
     "output_type": "execute_result"
    }
   ],
   "source": [
    "pages"
   ]
  },
  {
   "cell_type": "code",
   "execution_count": 4,
   "id": "c0eb853f-b3d1-4faa-9345-28555d815096",
   "metadata": {},
   "outputs": [],
   "source": [
    "pages[0].show()"
   ]
  },
  {
   "cell_type": "code",
   "execution_count": 5,
   "id": "59d7b082-c4b4-4820-b2de-5c682519e7c7",
   "metadata": {},
   "outputs": [
    {
     "name": "stdout",
     "output_type": "stream",
     "text": [
      "47/12/2020\n",
      "\n",
      "Patient Medical Record\n",
      "\n",
      "Patient Information Birth Date\n",
      "Kathy Crawford May 6 1972\n",
      "(737) 988-0851 Weight\n",
      "9264 Ash Dr 95\n",
      "New York City, 10005 .\n",
      "United States Height:\n",
      "190\n",
      "In Case of Emergency\n",
      "m _ eee ee\n",
      "Simeone Crawford 9266 Ash Dr\n",
      "New York City, New York, 10005\n",
      "Home phone United States\n",
      "(990) 375-4621\n",
      "Work phone\n",
      "Genera! Medical History\n",
      "\n",
      "Chicken Pox (Varicella):\n",
      "\n",
      "IMMUNE IMMUNE\n",
      "Have you had the Hepatitis B vaccination?\n",
      "\n",
      "No\n",
      "List any Medical Problems (asthma, seizures, headaches):\n",
      "\n",
      "Migraine\n",
      "\n",
      "\n"
     ]
    }
   ],
   "source": [
    "pytesseract.pytesseract.tesseract_cmd = r\"C:\\Program Files\\Tesseract-OCR\\tesseract.exe\"\n",
    "text = text = pytesseract.image_to_string(pages[0],lang='eng')\n",
    "print(text)"
   ]
  },
  {
   "cell_type": "code",
   "execution_count": 6,
   "id": "38051143-8b65-4927-8703-26ac0f3d6c71",
   "metadata": {},
   "outputs": [],
   "source": [
    "def preprocess_image(img):\n",
    "    grey_scale = cv2.cvtColor(np.array(img),cv2.COLOR_BGR2GRAY)\n",
    "    resized_image = cv2.resize(grey_scale,None,fx=1.5,fy =1.5,interpolation=cv2.INTER_LINEAR)\n",
    "    processed_image =cv2.adaptiveThreshold(\n",
    "    resized_image,255,\n",
    "    cv2.ADAPTIVE_THRESH_GAUSSIAN_C,\n",
    "    cv2.THRESH_BINARY,63,13\n",
    "    ) \n",
    "    return processed_image"
   ]
  },
  {
   "cell_type": "code",
   "execution_count": 7,
   "id": "fa8ee876-1198-468e-b9bc-3cfaf59197a1",
   "metadata": {},
   "outputs": [
    {
     "name": "stdout",
     "output_type": "stream",
     "text": [
      "17/12/2020\n",
      "\n",
      "Patient Medical Record\n",
      "\n",
      "Patient Information Birth Date\n",
      "\n",
      "Kathy Crawford May 6 1972\n",
      "\n",
      "(737) 988-0851 Weight’\n",
      "\n",
      "9264 Ash Dr 95\n",
      "\n",
      "New York City, 10005 ‘\n",
      "\n",
      "United States Height\n",
      "190\n",
      "\n",
      "In Case of Emergency :\n",
      "eee\n",
      "Simeone Crawford 9266 Ash Dr\n",
      "H New York City, New York, 10005\n",
      "ome phone United States\n",
      "(990) 375-4621\n",
      "Work phone\n",
      "Genera! Medical History\n",
      "a\n",
      "\n",
      "a em A IT a\n",
      "\n",
      "ene\n",
      "\n",
      "nr ene\n",
      "\n",
      "Chicken Pox (Varicella): Measies:\n",
      "\n",
      "IMMUNE IMMUNE\n",
      "\n",
      "Have you had the Hepatitis B vaccination?\n",
      "\n",
      "No\n",
      "\n",
      "List any Medical Problems (asthma, seizures, headaches):\n",
      "\n",
      "Migraine\n",
      "\n"
     ]
    }
   ],
   "source": [
    "img = preprocess_image(pages[0])\n",
    "Image.fromarray(img).show()\n",
    "text= pytesseract.image_to_string(img,lang='eng')\n",
    "print(text)"
   ]
  },
  {
   "cell_type": "markdown",
   "id": "812dfd36-e5db-4ae9-860c-ba7854c07677",
   "metadata": {},
   "source": [
    "### Extract Name"
   ]
  },
  {
   "cell_type": "code",
   "execution_count": 8,
   "id": "9f55ab5d-e92d-4a5b-958a-072f024bcf19",
   "metadata": {},
   "outputs": [
    {
     "data": {
      "text/plain": [
       "[' Birth Date\\n\\nKathy Crawford May 6 1972\\n\\n']"
      ]
     },
     "execution_count": 8,
     "metadata": {},
     "output_type": "execute_result"
    }
   ],
   "source": [
    "pattern = \"Patient Information(.*?)\\(\\d{3}\\)\"\n",
    "matches = re.findall(pattern,text,flags = re.DOTALL) \n",
    "matches"
   ]
  },
  {
   "cell_type": "code",
   "execution_count": 9,
   "id": "14209842-8d4b-4d1d-9a53-11ac3714de29",
   "metadata": {},
   "outputs": [
    {
     "data": {
      "text/plain": [
       "' Birth Date\\n\\nKathy Crawford May 6 1972\\n\\n'"
      ]
     },
     "execution_count": 9,
     "metadata": {},
     "output_type": "execute_result"
    }
   ],
   "source": [
    "matches[0]"
   ]
  },
  {
   "cell_type": "code",
   "execution_count": 10,
   "id": "a8d7afbe-b357-4a8b-a30f-db6a35ecb77a",
   "metadata": {},
   "outputs": [],
   "source": [
    "match = matches[0].replace(\"Birth Date\",\"\").strip()"
   ]
  },
  {
   "cell_type": "code",
   "execution_count": 11,
   "id": "54c0c7af-c3f1-4b5a-a29e-1d15f9cf07ff",
   "metadata": {},
   "outputs": [
    {
     "data": {
      "text/plain": [
       "'May 6 1972'"
      ]
     },
     "execution_count": 11,
     "metadata": {},
     "output_type": "execute_result"
    }
   ],
   "source": [
    "pattern = \"((Jan|Feb|March|April|May|June|July|Aug|Sep|Oct|Nov|Dec)[ \\d]+)\"\n",
    "date_matches = re.findall(pattern,match)\n",
    "date = date_matches[0][0]\n",
    "date"
   ]
  },
  {
   "cell_type": "code",
   "execution_count": 12,
   "id": "e6c4f03d-c454-4ac1-a10a-33bfcb74d851",
   "metadata": {},
   "outputs": [
    {
     "data": {
      "text/plain": [
       "'Kathy Crawford'"
      ]
     },
     "execution_count": 12,
     "metadata": {},
     "output_type": "execute_result"
    }
   ],
   "source": [
    "match.replace(date,\"\").strip()"
   ]
  },
  {
   "cell_type": "code",
   "execution_count": 13,
   "id": "0c14b26b-745d-4f2f-b573-e9a618455140",
   "metadata": {},
   "outputs": [],
   "source": [
    "def remove_noise_from_name(name):\n",
    "    name = matches[0].replace(\"Birth Date\",\"\").strip()\n",
    "    date_pattern = \"((Jan|Feb|March|April|May|June|July|Aug|Sep|Oct|Nov|Dec)[ \\d]+)\"\n",
    "    date_matches = re.findall(pattern,match)\n",
    "    \n",
    "    if date_matches:\n",
    "        date = date_matches[0][0]\n",
    "        name = name.replace(date,\"\").strip()\n",
    "    \n",
    "    return name"
   ]
  },
  {
   "cell_type": "code",
   "execution_count": 14,
   "id": "958899f4-c3b3-411f-abae-b0d2700f9564",
   "metadata": {},
   "outputs": [
    {
     "data": {
      "text/plain": [
       "'Kathy Crawford'"
      ]
     },
     "execution_count": 14,
     "metadata": {},
     "output_type": "execute_result"
    }
   ],
   "source": [
    "name = \" Birth Date\\n\\nKathy Crawford May 6 1972\\n\\n\"\n",
    "name = remove_noise_from_name(name)\n",
    "name"
   ]
  },
  {
   "cell_type": "markdown",
   "id": "37278017-f865-4788-b857-5ca5a9063150",
   "metadata": {},
   "source": [
    "### Extract Phone"
   ]
  },
  {
   "cell_type": "code",
   "execution_count": 15,
   "id": "5b09c191-e028-48e8-8843-f5542ed6bfa3",
   "metadata": {},
   "outputs": [
    {
     "data": {
      "text/plain": [
       "[(' Birth Date\\n\\nKathy Crawford May 6 1972\\n\\n(737) 988-0851',\n",
       "  ' Birth Date\\n\\nKathy Crawford May 6 1972\\n\\n',\n",
       "  '(737) 988-0851')]"
      ]
     },
     "execution_count": 15,
     "metadata": {},
     "output_type": "execute_result"
    }
   ],
   "source": [
    "pattern = \"Patient Information((.*?)(\\(\\d{3}\\) \\d{3}-\\d{4}))\"\n",
    "\n",
    "matches = re.findall(pattern,text,flags = re.DOTALL)\n",
    "matches"
   ]
  },
  {
   "cell_type": "code",
   "execution_count": 16,
   "id": "ef7411e7-7e0f-40a4-a04a-67c61a0299d2",
   "metadata": {},
   "outputs": [
    {
     "data": {
      "text/plain": [
       "'(737) 988-0851'"
      ]
     },
     "execution_count": 16,
     "metadata": {},
     "output_type": "execute_result"
    }
   ],
   "source": [
    "matches[0][2]"
   ]
  },
  {
   "cell_type": "markdown",
   "id": "55a4e200-9fd4-4b49-bead-f648b69fccdb",
   "metadata": {},
   "source": [
    "### Extract Vaccine "
   ]
  },
  {
   "cell_type": "code",
   "execution_count": 17,
   "id": "dcd423c1-923c-454b-818c-abba5fadf4e1",
   "metadata": {},
   "outputs": [
    {
     "data": {
      "text/plain": [
       "['No']"
      ]
     },
     "execution_count": 17,
     "metadata": {},
     "output_type": "execute_result"
    }
   ],
   "source": [
    "pattern = \"Have you had the Hepatitis B vaccination\\?.*(Yes|No)\"\n",
    "matches = re.findall(pattern,text,flags = re.DOTALL)\n",
    "matches"
   ]
  },
  {
   "cell_type": "markdown",
   "id": "a5a175b3-ef44-44ec-b0b9-f0556005104c",
   "metadata": {
    "tags": []
   },
   "source": [
    "### Medical Problems"
   ]
  },
  {
   "cell_type": "code",
   "execution_count": 18,
   "id": "f4d0e8a5-a521-4ba4-a13c-5cbc6721d85d",
   "metadata": {},
   "outputs": [
    {
     "data": {
      "text/plain": [
       "[]"
      ]
     },
     "execution_count": 18,
     "metadata": {},
     "output_type": "execute_result"
    }
   ],
   "source": [
    "pattern = \"List any Medical Problems (asthma, seizures, headaches):(.*)\"\n",
    "matches = re.findall(pattern,text,flags = re.DOTALL)\n",
    "matches"
   ]
  }
 ],
 "metadata": {
  "kernelspec": {
   "display_name": "Python 3 (ipykernel)",
   "language": "python",
   "name": "python3"
  },
  "language_info": {
   "codemirror_mode": {
    "name": "ipython",
    "version": 3
   },
   "file_extension": ".py",
   "mimetype": "text/x-python",
   "name": "python",
   "nbconvert_exporter": "python",
   "pygments_lexer": "ipython3",
   "version": "3.10.6"
  }
 },
 "nbformat": 4,
 "nbformat_minor": 5
}
