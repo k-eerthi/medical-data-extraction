{
 "cells": [
  {
   "cell_type": "code",
   "execution_count": 1,
   "id": "274faea5",
   "metadata": {},
   "outputs": [],
   "source": [
    "import re"
   ]
  },
  {
   "cell_type": "code",
   "execution_count": 2,
   "id": "34c7b790",
   "metadata": {},
   "outputs": [
    {
     "data": {
      "text/plain": [
       "['8072146875', '120']"
      ]
     },
     "execution_count": 2,
     "metadata": {},
     "output_type": "execute_result"
    }
   ],
   "source": [
    "text = \"Patient's Phone is 8072146875.Bill Amount is 120$\" \n",
    "pattern = '\\d+'\n",
    "\n",
    "match = re.findall(pattern,text)\n",
    "match"
   ]
  },
  {
   "cell_type": "markdown",
   "id": "2daaf071",
   "metadata": {},
   "source": [
    "### Extract Only Phone Number . Phone Number is always 10 digits "
   ]
  },
  {
   "cell_type": "code",
   "execution_count": 3,
   "id": "5b430b4b",
   "metadata": {},
   "outputs": [
    {
     "data": {
      "text/plain": [
       "['7321119999']"
      ]
     },
     "execution_count": 3,
     "metadata": {},
     "output_type": "execute_result"
    }
   ],
   "source": [
    "text = \"Patient's Phone is 7321119999.Bill amount is 120$\"\n",
    "pattern = \"\\d{10}\"\n",
    "match = re.findall(pattern,text)\n",
    "match"
   ]
  },
  {
   "cell_type": "markdown",
   "id": "ddbe823b",
   "metadata": {},
   "source": [
    "### Extract Phone Number,Which Is Either 10 continuous digits Or Follows Format (XXX)-(XXX)-(XXXX)"
   ]
  },
  {
   "cell_type": "code",
   "execution_count": 4,
   "id": "ce012123",
   "metadata": {},
   "outputs": [
    {
     "data": {
      "text/plain": [
       "['(732)-111-9999', '8072146875']"
      ]
     },
     "execution_count": 4,
     "metadata": {},
     "output_type": "execute_result"
    }
   ],
   "source": [
    "text = \"Patient's Phone Is (732)-111-9999,Spouse Phone Number 8072146875.Bill Amount Is 120$\"\n",
    "pattern = '\\(\\d{3}\\)-\\d{3}-\\d{4}|\\d{10}'\n",
    "match = re.findall(pattern,text)\n",
    "match"
   ]
  },
  {
   "cell_type": "markdown",
   "id": "8e34a1df",
   "metadata": {},
   "source": [
    "### Extract Phone Number And Bill Amount Seperately "
   ]
  },
  {
   "cell_type": "code",
   "execution_count": 5,
   "id": "4c5921ba",
   "metadata": {},
   "outputs": [
    {
     "data": {
      "text/plain": [
       "<re.Match object; span=(54, 84), match='8072146875.Bill Amount Is 120$'>"
      ]
     },
     "execution_count": 5,
     "metadata": {},
     "output_type": "execute_result"
    }
   ],
   "source": [
    "text = \"Patient's Phone Is (732)-111-9999,Spouse Phone Number 8072146875.Bill Amount Is 120$\"\n",
    "pattern = \"(\\d{10})\\D+(\\d+)\\$\"\n",
    "match = re.search(pattern,text)\n",
    "match"
   ]
  },
  {
   "cell_type": "code",
   "execution_count": 6,
   "id": "6dfbe16b",
   "metadata": {},
   "outputs": [],
   "source": [
    "phone_number,bill_amount = match.groups()"
   ]
  },
  {
   "cell_type": "code",
   "execution_count": 7,
   "id": "399232c5",
   "metadata": {},
   "outputs": [
    {
     "data": {
      "text/plain": [
       "('8072146875', '120')"
      ]
     },
     "execution_count": 7,
     "metadata": {},
     "output_type": "execute_result"
    }
   ],
   "source": [
    "phone_number,bill_amount"
   ]
  },
  {
   "cell_type": "code",
   "execution_count": 8,
   "id": "92dc5365",
   "metadata": {},
   "outputs": [],
   "source": [
    "text = '''Dr John Smith, M.D\n",
    "2 Non-Important Street,\n",
    "New York, Phone (000)-111-2222\n",
    "\n",
    "Name: Marta Sharapova Date: 5/11/2022\n",
    "\n",
    "Address: 9 tennis court, new Russia, DC\n",
    "\n",
    "\n",
    "Prednisone 20 mg\n",
    "Lialda 2.4 gram\n",
    "\n",
    "Directions:\n",
    "\n",
    "Prednisone, Taper 5 mg every 3 days,\n",
    "Finish in 2.5 weeks a\n",
    "Lialda - take 2 pill everyday for 1 month\n",
    "\n",
    "Refill: 2 times\n",
    "'''"
   ]
  },
  {
   "cell_type": "code",
   "execution_count": 9,
   "id": "bb1ec588",
   "metadata": {},
   "outputs": [
    {
     "data": {
      "text/plain": [
       "'Marta Sharapova'"
      ]
     },
     "execution_count": 9,
     "metadata": {},
     "output_type": "execute_result"
    }
   ],
   "source": [
    "pattern = \"Name:(.*)Date\"\n",
    "match = re.findall(pattern,text)\n",
    "match[0].strip()"
   ]
  },
  {
   "cell_type": "code",
   "execution_count": 10,
   "id": "8e143756",
   "metadata": {},
   "outputs": [
    {
     "data": {
      "text/plain": [
       "'9 tennis court, new Russia, DC'"
      ]
     },
     "execution_count": 10,
     "metadata": {},
     "output_type": "execute_result"
    }
   ],
   "source": [
    "pattern = \"Address:(.*)\\n\"\n",
    "match = re.findall(pattern,text)\n",
    "match[0].strip()"
   ]
  },
  {
   "cell_type": "code",
   "execution_count": 11,
   "id": "8ef01775",
   "metadata": {},
   "outputs": [
    {
     "name": "stdout",
     "output_type": "stream",
     "text": [
      "Prednisone 20 mg\n",
      "Lialda 2.4 gram\n"
     ]
    }
   ],
   "source": [
    "pattern = \"Address[^\\n]*(.*)Directions\"\n",
    "match = re.findall(pattern,text,flags = re.DOTALL)\n",
    "print(match[0].strip())"
   ]
  },
  {
   "cell_type": "code",
   "execution_count": 12,
   "id": "296bde94-3e33-4a44-918e-fdbbe101b75a",
   "metadata": {},
   "outputs": [],
   "source": [
    "text = \"\"\"17/12/2020\n",
    "\n",
    "Patient Medical Record\n",
    "\n",
    "Patient Information Birth Date\n",
    "\n",
    "Kathy Crawford May 6 1972\n",
    "\n",
    "(737) 988-0851 Weight’\n",
    "\n",
    "9264 Ash Dr 95\n",
    "\n",
    "New York City, 10005 ‘\n",
    "\n",
    "United States Height\n",
    "190\n",
    "\n",
    "In Case of Emergency :\n",
    "eee\n",
    "Simeone Crawford 9266 Ash Dr\n",
    "H New York City, New York, 10005\n",
    "ome phone United States\n",
    "(990) 375-4621\n",
    "Work phone\n",
    "Genera! Medical History\n",
    "a\n",
    "\n",
    "a em A IT a\n",
    "\n",
    "ene\n",
    "\n",
    "nr ene\n",
    "\n",
    "Chicken Pox (Varicella): Measies:\n",
    "\n",
    "IMMUNE IMMUNE\n",
    "\n",
    "Have you had the Hepatitis B vaccination?\n",
    "\n",
    "No\n",
    "\n",
    "List any Medical Problems (asthma, seizures, headaches):\n",
    "\n",
    "Migraine\"\"\""
   ]
  },
  {
   "cell_type": "code",
   "execution_count": null,
   "id": "e0ad418f-bcd1-48aa-a29b-f8e11f210e69",
   "metadata": {},
   "outputs": [],
   "source": []
  }
 ],
 "metadata": {
  "kernelspec": {
   "display_name": "Python 3 (ipykernel)",
   "language": "python",
   "name": "python3"
  },
  "language_info": {
   "codemirror_mode": {
    "name": "ipython",
    "version": 3
   },
   "file_extension": ".py",
   "mimetype": "text/x-python",
   "name": "python",
   "nbconvert_exporter": "python",
   "pygments_lexer": "ipython3",
   "version": "3.10.6"
  }
 },
 "nbformat": 4,
 "nbformat_minor": 5
}
